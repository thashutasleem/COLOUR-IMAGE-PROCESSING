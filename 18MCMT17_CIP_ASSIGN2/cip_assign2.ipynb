{
 "cells": [
  {
   "cell_type": "markdown",
   "metadata": {},
   "source": [
    "###                            CIP-ASSIGNMENT-2\n",
    "                                                                       TASLEEM SULTHANA\n",
    "                                                                       18MCMT17\n",
    "                                                                        MTECH-CS\n"
   ]
  },
  {
   "cell_type": "code",
   "execution_count": 1,
   "metadata": {},
   "outputs": [],
   "source": [
    "import cv2\n",
    "import matplotlib.pyplot as plt\n",
    "import numpy as np\n",
    "import glob\n",
    "import copy"
   ]
  },
  {
   "cell_type": "markdown",
   "metadata": {},
   "source": [
    "### 1. Search the web for Colour Halftoning algorithms. Select one of them and write a detailed report on it OR implement the selected algorithm and show results on the test images."
   ]
  },
  {
   "cell_type": "markdown",
   "metadata": {},
   "source": [
    "#### REPORT : colour halftoning algorithms.\n",
    "Halftoning is method of generating the a continuous image by using binary outputs of printers.\n",
    "we know that a printer can either put a dot and leave the it without dotting,but cannot dot a portion.\n",
    "\n",
    "In ordered dot dithering let us consider a alogirithm in which is a colour dithering algorithm implemented by resizing the new image 4 times of the original.\n",
    "\n",
    "the order of the dithering will be as follows\n",
    "         \n",
    "       M(i, j) =    [ 1 2 \n",
    "                      3 0 ]\n",
    "                      \n",
    "Let us consider a random positions for the CMY on the 4*4 of a single pixel\n",
    "\n",
    "        [ C M Y C              \n",
    "          M C M Y\n",
    "          M C M Y\n",
    "          C Y Y C ]\n",
    "   \n",
    " for the above assigned CMY we can dot C=6, M=5 , Y =5\n",
    "  \n",
    "  now lets generate the order of dotting for 4*4 by using the conditions   \n",
    "  \n",
    "      [ 4*M    4*M+2\n",
    "        4*M+3  4*M+1]\n",
    "        \n",
    "  Then the genrated 4*4 ordered dithering positions will be as follows\n",
    "  \n",
    "      [ 0  8  2  10\n",
    "        12 4  14  6\n",
    "        3  11  1  9\n",
    "        15  7  13 5] \n",
    "        \n",
    "   the colour position numbering\n",
    "    \n",
    "    [C1 M3 Y1 C4\n",
    "     M4 C2 M5 Y2\n",
    "     M2 C5 M1 Y4\n",
    "     C6 Y3 Y5 C3]\n",
    "     \n",
    "     The positions for C are [(0,0),(1,1),(3,3),(0,3),(2,1),(3,0)]     =>  total 6 positions\n",
    "     The positions for M are [(2,2),(2,0),(,1,0),(0,1),(1,2)]          =>  total 5 positions \n",
    "     The positions for Y are [(0,2),(1,3)(3,1)(2,3)(3,2)]              =>  total 5 positions\n",
    "     \n",
    "     Now for a coloured image we have 3 channels\n",
    "     =>the C dots must be dotted on to the C-channel\n",
    "     =>the M dots must be dotted on to the M-channel\n",
    "     =>the Y dots must be dotted on to the Y-channel\n",
    "     \n",
    "     Now we dithering each pixel of the image on iths 4*4 part the number of dots to be kept will be calculated as follows:\n",
    "     if a pixel is its CMY values( 178,165,182)\n",
    "     then the number of  C M Y Ddots to be dotted can be calculated as follows:\n",
    "      \n",
    "     number of  X= (X_value/255)*total no. of X\n",
    "     \n",
    "     C = (178/255)*6  = 4.18 => 4\n",
    "     \n",
    "     M = (165/255)*5  = 3.12 => 3\n",
    "  \n",
    "     Y = (182/255)*5  = 3.51 => 3\n",
    "     \n",
    "     Therefore the pixel positions that must be dotted are\n",
    "     \n",
    "     on C channel only 4 => [(0,0),(1,1),(3,3),(0,3)]\n",
    "     on M channel only 3 => [(2,2),(2,0),(,1,0)]\n",
    "     on Y channel only 3 => [(0,2),(1,3)(3,1)]\n",
    "     \n",
    "     PERFORM THE SAME ON THE PIXELS AND DOT THERE CORRESPONDING CHANNELS.\n",
    "     \n",
    "     after completion of dotting now align the channels on certain angle said C->15 M->15 Y->0 (degrees as units)\n",
    "     \n",
    "     NOTE:* If we are using RGB colour space to get cyan dotting must be done on both blue and green, blue and red to get magenta and similarly to obtain yellow dot both green and red.\n",
    "     \n",
    "     print or save the new image generate,it ll be dasically 4 times the size of original image resize it view the complete image"
   ]
  },
  {
   "cell_type": "markdown",
   "metadata": {},
   "source": [
    "#### TRIED IMPLEMENTATION:"
   ]
  },
  {
   "cell_type": "code",
   "execution_count": 2,
   "metadata": {},
   "outputs": [],
   "source": [
    "def color_halftoning(image,dithered_image,C_positions,M_positions,Y_positions):\n",
    "    c_len=len(C_positions)\n",
    "    m_len=len(M_positions)\n",
    "    y_len=len(Y_positions)\n",
    "    \n",
    "    for i in range(image.shape[0]):\n",
    "        for j in range(image.shape[1]):\n",
    "\n",
    "            c_count = ( image[i,j,2]/255)*c_len\n",
    "            y_count = (image[i,j,0]/255)* m_len\n",
    "            m_count = (image[i,j,1]/255)*y_len\n",
    "\n",
    "\n",
    "            x, y = i*4, j*4\n",
    "            \n",
    "            for k in range(0,int(c_count)):\n",
    "                dithered_image[x+C_positions[k][0],y+C_positions[k][1]] = [255,255,0]\n",
    "            for k in range(0,int(m_count)):\n",
    "                dithered_image[x+M_positions[k][0],y+M_positions[k][1]] = [0,255,255]\n",
    "            for k in range(0,int(y_count)):\n",
    "                dithered_image[x+Y_positions[k][0],y+Y_positions[k][1]] = [255,0,255]\n",
    "\n",
    "    \n",
    "    return dithered_image"
   ]
  },
  {
   "cell_type": "markdown",
   "metadata": {},
   "source": [
    "\n",
    "mask used:\n",
    "\n",
    "    [ C M Y C              \n",
    "      M C M Y\n",
    "      M C M Y\n",
    "      C Y Y C ]  "
   ]
  },
  {
   "cell_type": "code",
   "execution_count": 3,
   "metadata": {},
   "outputs": [
    {
     "name": "stdout",
     "output_type": "stream",
     "text": [
      "running on orange-flower\n",
      "(480, 640, 3)\n",
      "(1920, 2560, 3)\n",
      "running on waterplane\n",
      "(450, 600, 3)\n",
      "(1800, 2400, 3)\n",
      "running on fall-colour\n",
      "(402, 600, 3)\n",
      "(1608, 2400, 3)\n"
     ]
    }
   ],
   "source": [
    "   \n",
    "\n",
    "def main():\n",
    "       \n",
    "    C_positions=[[0,0],[1,1],[3,3],[0,3],[2,1],[3,0]]\n",
    "    M_positions=[[2,2],[2,0],[1,0],[0,1],[1,2]]\n",
    "    Y_positions=[[0,2],[1,3],[3,1],[2,3],[3,2]]\n",
    "    \n",
    "    image = cv2.imread('images/orange-flower.ppm')\n",
    "    dithered_image = np.full((image.shape[0]*4, image.shape[1]*4, 3), 255, dtype = np.uint8)\n",
    "    dithered_image=color_halftoning (image,dithered_image,C_positions,M_positions,Y_positions)\n",
    "    print(\"running on orange-flower\")\n",
    "    print(image.shape)\n",
    "    print(dithered_image.shape) \n",
    "    cv2.imwrite(\"Results/dithering/orange-flower.ppm\", dithered_image)\n",
    "    \n",
    "    \n",
    "    image = cv2.imread('images/waterplane.ppm')\n",
    "    dithered_image = np.full((image.shape[0]*4, image.shape[1]*4, 3), 255, dtype = np.uint8)\n",
    "    dithered_image=color_halftoning (image,dithered_image,C_positions,M_positions,Y_positions)\n",
    "    print(\"running on waterplane\")\n",
    "    print(image.shape)\n",
    "    print(dithered_image.shape)\n",
    "    cv2.imwrite(\"Results/dithering/waterplane.ppm\", dithered_image)\n",
    "    \n",
    "    \n",
    "    \n",
    "    image = cv2.imread('images/fall-colours.jpg')\n",
    "    dithered_image = np.full((image.shape[0]*4, image.shape[1]*4, 3), 255, dtype = np.uint8)\n",
    "    dithered_image=color_halftoning (image,dithered_image,C_positions,M_positions,Y_positions)\n",
    "    print(\"running on fall-colour\")\n",
    "    print(image.shape)\n",
    "    print(dithered_image.shape) \n",
    "    cv2.imwrite(\"Results/dithering/fall-colours.jpg\", dithered_image)\n",
    "   \n",
    "    \n",
    "    \n",
    "main()"
   ]
  },
  {
   "cell_type": "markdown",
   "metadata": {},
   "source": [
    "#### Analysis:-\n",
    "The above algorithm results are DIFFERENT from the actual image,the results are slightly BLUISH as the mask we used results in dotting more blue parts of the RGB channels"
   ]
  },
  {
   "cell_type": "markdown",
   "metadata": {},
   "source": [
    "### 2. Try coming up with your own error diffusion coefficients and implement the standard error-diffusion algorithm. Compare the performance of your coefficients against Floyd-Steinberg's on this image. Discuss the patterns visible in yours and in Floyd-Steinberg's at the various gray levels."
   ]
  },
  {
   "cell_type": "markdown",
   "metadata": {},
   "source": [
    "In error diffusion algorithm we get the each new pixel value based on a threshold implemented on the previous image,\n",
    "we consider 127 as our threshold limit the pixel value is less than 127 we set the new pixel as 0 and load the pixel value as the error and diffuse it to the next pixels based on the error diffusion criteria we are considering.\n",
    "similarly if the pixel value is greater than the threshold then we set the pixel to 255 and get the difference get pixel and the 255 as  negative error and diffuse it.\n",
    "\n",
    "we floyd's coefficients for diffusion\n",
    "\n",
    "\n",
    "      [          *     7/16\n",
    "     \n",
    "     \n",
    "      3/16     5/16   1/16 ]"
   ]
  },
  {
   "cell_type": "markdown",
   "metadata": {},
   "source": [
    "### floyd steinberg algorithm\n",
    " \n",
    " pixel position  [[0,1],     [1,1],     [1,0],     [1,-1]] if current pixel is [0,0]\n",
    " \n",
    "error diffused:  [7 / 16,    1 / 16,     5 / 16,    3 / 16]\n",
    "\n",
    "floyd steinberg algorithm from wikipedia:\n",
    "\n",
    "    for each y from top to bottom\n",
    "       for each x from left to right\n",
    "          oldpixel  := pixel[x][y]\n",
    "          newpixel  := find_closest_palette_color(oldpixel)\n",
    "          pixel[x][y]  := newpixel\n",
    "          quant_error  := oldpixel - newpixel\n",
    "          pixel[x + 1][y    ] := pixel[x + 1][y    ] + quant_error * 7 / 16\n",
    "          pixel[x - 1][y + 1] := pixel[x - 1][y + 1] + quant_error * 3 / 16\n",
    "          pixel[x    ][y + 1] := pixel[x    ][y + 1] + quant_error * 5 / 16\n",
    "          pixel[x + 1][y + 1] := pixel[x + 1][y + 1] + quant_error * 1 / 16\n",
    "  "
   ]
  },
  {
   "cell_type": "code",
   "execution_count": 4,
   "metadata": {},
   "outputs": [],
   "source": [
    "def floyd_steinberg(image):\n",
    "    folyd_image = image.copy()\n",
    "    total_error=0\n",
    "    for i in range(0, image.shape[0]-1):\n",
    "        for j in range(0, image.shape[1]-1):\n",
    "            error = 0\n",
    "            if folyd_image[i][j] < 128:\n",
    "                quant_error = folyd_image[i][j]\n",
    "                total_error+=quant_error\n",
    "                folyd_image[i][j] = 0\n",
    "            else:\n",
    "                quant_error = folyd_image[i][j]-255\n",
    "                total_error+=quant_error\n",
    "                folyd_image[i][j] = 255\n",
    "                \n",
    "            folyd_image[i][j+1] =np.clip(quant_error * 7 / 16+folyd_image[i][j+1],0,255)\n",
    "            folyd_image[i+1][j+1] =np.clip (quant_error * 1 / 16 + folyd_image[i+1][j+1],0,255)\n",
    "            folyd_image[i+1][j-1] = np.clip (quant_error * 5 / 16+ folyd_image[i+1][j-1],0,255)\n",
    "            folyd_image[i+1][j] = np.clip (quant_error * 3 / 16 + folyd_image[i+1][j] ,0,255)\n",
    "            \n",
    "    print(\"executing\")        \n",
    "    print(\"total error diffused in floyd's=\") \n",
    "    print(total_error)\n",
    " \n",
    "    cv2.imwrite(\"Results/diffussion_results/FLOYDS.png\", folyd_image)"
   ]
  },
  {
   "cell_type": "markdown",
   "metadata": {},
   "source": [
    "### Diffusion algorithm1 by slightly modifying the floyd's diffusion cofficients\n",
    "\n",
    " \n",
    "      [          *     6/16\n",
    "     \n",
    "     \n",
    "      2/16     6/16   2/16 ]\n",
    "      \n",
    "\n",
    "\n",
    "\n",
    "pixel position [[0,1], [1,1], [1,0], [1,-1]] if current pixel is [0,0]\n",
    "\n",
    "error diffused: [6 / 16, 2 / 16, 6 / 16, 2 / 16]\n",
    "\n",
    "\n",
    "\n",
    "\n",
    "      pixel[x + 1][y    ] := pixel[x + 1][y    ] + quant_error * 6 / 16\n",
    "      pixel[x - 1][y + 1] := pixel[x - 1][y + 1] + quant_error * 2 / 16\n",
    "      pixel[x    ][y + 1] := pixel[x    ][y + 1] + quant_error * 6 / 16\n",
    "      pixel[x + 1][y + 1] := pixel[x + 1][y + 1] + quant_error * 2 / 16"
   ]
  },
  {
   "cell_type": "code",
   "execution_count": 5,
   "metadata": {},
   "outputs": [],
   "source": [
    "def my_diffusion1(image):\n",
    "    my_diff = image.copy()\n",
    "    total_error=0\n",
    "    for i in range(0, image.shape[0]-1):\n",
    "        for j in range(0, image.shape[1]-1):\n",
    "            error = 0\n",
    "            if my_diff[i][j] < 128:\n",
    "                quant_error = my_diff[i][j]\n",
    "                total_error+=quant_error\n",
    "                my_diff[i][j] = 0\n",
    "            else:\n",
    "                quant_error = my_diff[i][j]-255\n",
    "                total_error+=quant_error\n",
    "                my_diff[i][j] = 255\n",
    "                \n",
    "            my_diff[i][j+1] =np.clip(quant_error * 6 / 16+my_diff[i][j+1],0,255)\n",
    "            my_diff[i+1][j+1] =np.clip (quant_error * 2 / 16 + my_diff[i+1][j+1],0,255)\n",
    "            my_diff[i+1][j-1] = np.clip (quant_error * 6 / 16+ my_diff[i+1][j-1],0,255)\n",
    "            my_diff[i+1][j] = np.clip (quant_error * 2 / 16 + my_diff[i+1][j] ,0,255)\n",
    "            \n",
    "    print(\"executing\")        \n",
    "    print(\"total error diffused in algo-1=\") \n",
    "    print(total_error)\n",
    " \n",
    "    cv2.imwrite(\"Results/diffussion_results/MY_DIFF1.png\", my_diff)"
   ]
  },
  {
   "cell_type": "markdown",
   "metadata": {},
   "source": [
    "### Diffusion algorithm2 by slightly modifying the floyd's diffusion cofficients\n",
    "\n",
    "  \n",
    "      [          *     8/20\n",
    "     \n",
    "     \n",
    "               5/20   7/20 ]\n",
    "\n",
    " pixel position [[0,1], [1,1], [1,0], ] if current pixel is [0,0]\n",
    "\n",
    "error diffused: [8 / 20, 5 / 20, 7 / 20]\n",
    "\n",
    "\n",
    "            my_diff[i][j+1] =np.clip(quant_error * 8 / 20+my_diff[i][j+1],0,255)\n",
    "            my_diff[i+1][j+1] =np.clip (quant_error * 5 / 20 + my_diff[i+1][j+1],0,255)\n",
    "            my_diff[i+1][j-1] = np.clip (quant_error * 7 / 20+ my_diff[i+1][j-1],0,255)"
   ]
  },
  {
   "cell_type": "code",
   "execution_count": 6,
   "metadata": {},
   "outputs": [],
   "source": [
    "def my_diffusion2(image):\n",
    "    my_diff = image.copy()\n",
    "    total_error=0\n",
    "    for i in range(0, image.shape[0]-1):\n",
    "        for j in range(0, image.shape[1]-1):\n",
    "            error = 0\n",
    "            if my_diff[i][j] < 128:\n",
    "                quant_error = my_diff[i][j]\n",
    "                total_error+=quant_error\n",
    "                my_diff[i][j] = 0\n",
    "            else:\n",
    "                quant_error = my_diff[i][j]-255\n",
    "                total_error+=quant_error\n",
    "                my_diff[i][j] = 255\n",
    "                \n",
    "            my_diff[i][j+1] =np.clip(quant_error * 8 / 20+my_diff[i][j+1],0,255)\n",
    "            my_diff[i+1][j+1] =np.clip (quant_error * 5 / 20 + my_diff[i+1][j+1],0,255)\n",
    "            my_diff[i+1][j-1] = np.clip (quant_error * 7 / 20+ my_diff[i+1][j-1],0,255)\n",
    "    print(\"executing\")        \n",
    "    print(\"total error diffused in algo-2=\") \n",
    "    print(total_error)\n",
    "    cv2.imwrite(\"Results/diffussion_results/MY_DIFF2.png\", my_diff)\n",
    "    "
   ]
  },
  {
   "cell_type": "markdown",
   "metadata": {},
   "source": [
    "### Diffusion algorithm3 by modifying the coefficients and diffusing the error in all the direction\n",
    "\n",
    "\n",
    "this algorithm doesnot give correct diffusion of error as the error again gets diffused to the modified pixels\n",
    "\n",
    "\n",
    "\n",
    "\n",
    "            /* diagnoly backwards */\n",
    "            \n",
    "            my_diff[i-1][j-1] =np.clip(quant_error * 1 / 28+my_diff[i-1][j-1],0,255)\n",
    "            my_diff[i-1][j+1] =np.clip (quant_error * 1 / 28 + my_diff[i-1][j+1],0,255)\n",
    "            \n",
    "            /* backwards */\n",
    "            \n",
    "            my_diff[i-1][j] = np.clip (quant_error * 4 / 28 + my_diff[i-1][j] ,0,255)\n",
    "            my_diff[i][j-1] = np.clip(quant_error * 4 / 28 + my_diff[i][j-1], 0 ,255)\n",
    "               \n",
    "            /* diagonally farwards */\n",
    "            \n",
    "            my_diff[i+1][j+1] =np.clip (quant_error * 3 / 28 + my_diff[i+1][j+1],0,255)\n",
    "            my_diff[i+1][j-1] = np.clip (quant_error * 3 / 28+ my_diff[i+1][j-1],0,255)\n",
    "            \n",
    "            /*  forward directions*/\n",
    "            \n",
    "            my_diff[i+1][j] = np.clip (quant_error * 6 / 28 + my_diff[i+1][j] ,0,255) \n",
    "            my_diff[i][j+1] = np.clip (quant_error * 6 / 28+ my_diff[i][j+1],0,255)\n",
    "            \n",
    "            \n",
    "            "
   ]
  },
  {
   "cell_type": "code",
   "execution_count": 7,
   "metadata": {},
   "outputs": [],
   "source": [
    "def my_diffusion3(image):\n",
    "    my_diff = image.copy()\n",
    "    total_error=0\n",
    "    for i in range(0, image.shape[0]-1):\n",
    "        for j in range(0, image.shape[1]-1):\n",
    "            error = 0\n",
    "            if my_diff[i][j] < 128:\n",
    "                quant_error = my_diff[i][j]\n",
    "                total_error+=quant_error\n",
    "                my_diff[i][j] = 0\n",
    "            else:\n",
    "                quant_error = my_diff[i][j]-255\n",
    "                total_error+=quant_error\n",
    "                my_diff[i][j] = 255\n",
    "                \n",
    "            my_diff[i-1][j-1] =np.clip(quant_error * 1 / 28+my_diff[i-1][j-1],0,255)\n",
    "            my_diff[i-1][j] = np.clip (quant_error * 4 / 28 + my_diff[i-1][j] ,0,255)\n",
    "            my_diff[i-1][j+1] =np.clip (quant_error * 1 / 28 + my_diff[i-1][j+1],0,255)\n",
    "            my_diff[i][j+1] = np.clip (quant_error * 6 / 28+ my_diff[i][j+1],0,255)\n",
    "           \n",
    "            \n",
    "            \n",
    "            my_diff[i+1][j+1] =np.clip (quant_error * 3 / 28 + my_diff[i+1][j+1],0,255)\n",
    "            my_diff[i+1][j] = np.clip (quant_error * 6 / 28 + my_diff[i+1][j] ,0,255)\n",
    "            my_diff[i+1][j-1] = np.clip (quant_error * 3 / 28+ my_diff[i+1][j-1],0,255)\n",
    "            my_diff[i][j-1] =np.clip(quant_error * 4 / 28+my_diff[i][j-1],0,255)\n",
    "    print(\"executing\")        \n",
    "    print(\"total error diffused in algo-3=\")\n",
    "    print(total_error)\n",
    "    cv2.imwrite(\"Results/diffussion_results/MY_DIFF3.png\", my_diff)"
   ]
  },
  {
   "cell_type": "code",
   "execution_count": 8,
   "metadata": {},
   "outputs": [
    {
     "name": "stdout",
     "output_type": "stream",
     "text": [
      "executing\n",
      "total error diffused in floyd's=\n",
      "-3077300\n",
      "executing\n",
      "total error diffused in algo-1=\n",
      "-2871158\n",
      "executing\n",
      "total error diffused in algo-2=\n",
      "-3900382\n",
      "executing\n",
      "total error diffused in algo-3=\n",
      "-915518\n"
     ]
    }
   ],
   "source": [
    "image = cv2.imread('images/ed-eg.png',0)\n",
    "floyd_steinberg(image)\n",
    "my_diffusion1(image)\n",
    "my_diffusion2(image)\n",
    "my_diffusion3(image)"
   ]
  },
  {
   "cell_type": "markdown",
   "metadata": {},
   "source": [
    "### NOTE:\n",
    "my_diffusion3 algorthms fails as it diffuses the error to the already modified pixel positions hence error can only be diffused to the un modified that is forward pixels"
   ]
  },
  {
   "cell_type": "markdown",
   "metadata": {},
   "source": [
    "###  3.(a) Implement an algorithm to simulate the grayscale output from a colour filter array. The function prototype is image colour_filter (image, filter) That is, it takes an input colour image and a colour filter as parameters and returns a grayscale image."
   ]
  },
  {
   "cell_type": "markdown",
   "metadata": {},
   "source": [
    "#### colour_filter\n",
    "filter used \n",
    "\n",
    "            [G ,B \n",
    "            ,R ,B]\n",
    "            \n",
    "the filter is moved across the image by moving it by 2 pixels each time.\n",
    "this could also be done by moving the filter by 1 position at a time and to match the structure perform np.roll operation on the filter.this algorithm may give better solutions than the implemented algorithm as the operation on pixels is carried out twice.\n",
    " "
   ]
  },
  {
   "cell_type": "code",
   "execution_count": 9,
   "metadata": {},
   "outputs": [],
   "source": [
    "def colour_filter (image, filtter):\n",
    "\n",
    "    gray_image = np.zeros((image.shape[0],image.shape[1]))\n",
    "    \n",
    "    for i in range(0,image.shape[0]-2, 2):\n",
    "        for j in range(0,image.shape[1]-2, 2):   \n",
    "            \n",
    "                gray_image[i][j]=image[i][j][filtter[0]]\n",
    "                gray_image[i][j+1]=image[i+1][j+1][filtter[1]]\n",
    "                gray_image[i+1][j]=image[i+2][j+2][filtter[2]]\n",
    "                gray_image[i+1][j+1]=image[i+3][j+3][filtter[3]]\n",
    "    print(\"executing\")\n",
    "                \n",
    "\n",
    "    return np.uint8(gray_image)\n"
   ]
  },
  {
   "cell_type": "code",
   "execution_count": 10,
   "metadata": {},
   "outputs": [
    {
     "name": "stdout",
     "output_type": "stream",
     "text": [
      "executing\n",
      "executing\n",
      "executing\n"
     ]
    },
    {
     "data": {
      "text/plain": [
       "True"
      ]
     },
     "execution_count": 10,
     "metadata": {},
     "output_type": "execute_result"
    }
   ],
   "source": [
    "\n",
    "filtter = [1, 2, 0, 1]                #[G ,B ,R ,B]\n",
    "\n",
    "image = cv2.imread('images/orange-flower.ppm')\n",
    "image = cv2.cvtColor(image, cv2.COLOR_BGR2RGB)\n",
    "gray_image=colour_filter (image, filtter)\n",
    "cv2.imwrite(\"Results/colour_filter/orange-flower.ppm\", gray_image)\n",
    "\n",
    "image = cv2.imread('images/waterplane.ppm')\n",
    "image = cv2.cvtColor(image, cv2.COLOR_BGR2RGB)\n",
    "gray_image=colour_filter (image, filtter)\n",
    "cv2.imwrite(\"Results/colour_filter/waterplane.ppm\", gray_image)\n",
    "\n",
    "image = cv2.imread('images/fall-colours.jpg')\n",
    "image = cv2.cvtColor(image, cv2.COLOR_BGR2RGB)\n",
    "gray_image=colour_filter (image, filtter)\n",
    "cv2.imwrite(\"Results/colour_filter/fall-colours.jpg\", gray_image)\n",
    "\n"
   ]
  },
  {
   "cell_type": "markdown",
   "metadata": {},
   "source": [
    "### (b) Implement a demosaicking algorithm with the prototype image demosaic (image, filter)The input image is a grayscale image output by the colour_filter algorithm and the corresponding filter array; the output is a colour image."
   ]
  },
  {
   "cell_type": "markdown",
   "metadata": {},
   "source": [
    "####    demosaicking the gray image    \n",
    "        \n",
    "        /*\n",
    "         B G B G \n",
    "         G R G R \n",
    "         B G B G \n",
    "         */\n",
    "         \n",
    "         filter considered\n",
    "        Actual 2*2 filter => B G\n",
    "                             G R\n",
    "                          \n",
    "         roll the filter for every column,row to match the structure.\n",
    "                          \n",
    "         for next column => G B   by performing np.roll to match the structure\n",
    "                            R G\n",
    " \n",
    "         for next row=>  G R   roll the filter for every column,row to match the structure.\n",
    "                         B G\n",
    "                         \n",
    "         While passing filter on the gray image get the blue components,red and average of green components as        there are 2 greens,for each pixel pass the filter and calculate the values & assign these components as the three colour values.\n",
    "         \n",
    "         \n",
    "         "
   ]
  },
  {
   "cell_type": "code",
   "execution_count": 11,
   "metadata": {},
   "outputs": [],
   "source": [
    "def demosaic (image, filtter):\n",
    "    color_image = np.zeros((image.shape[0],image.shape[1],3))\n",
    "    for i in range(0, image.shape[0]-1, 1):\n",
    "        for j in range(0, image.shape[1]-1, 1):\n",
    "            \n",
    "#             obtaining the positions of the colour components\n",
    "            red = np.where(filtter == 0)\n",
    "            green = np.where(filtter == 1)\n",
    "            blue = np.where(filtter == 2)\n",
    "            \n",
    "#              red colour components on to red channel\n",
    "            for x,y in zip(red[0],red[1]):\n",
    "                color_image[i][j][2] = image[i+x][j+y] \n",
    "            \n",
    "#             green colour components on to green channel            \n",
    "            for x,y in zip(green[0],green[1]):\n",
    "                color_image[i][j][1] = color_image[i][j][1]+image[i+x][j+y]\n",
    "            color_image[i][j][1] = color_image[i][j][1] / 2\n",
    "\n",
    "#              blue colour components on to blue channel\n",
    "            for x,y in zip(blue[0],blue[1]):\n",
    "                color_image[i][j][0] = image[i+x][j+y] \n",
    "\n",
    "#         roll the filter to match the next column structure\n",
    "            filtter = np.roll(filtter, shift=1, axis=1)\n",
    "\n",
    "#         roll the filter to match the next rowstructure\n",
    "        filtter = np.roll(filtter, shift=1, axis=1)\n",
    "        filtter = np.roll(filtter, shift=1, axis=0)\n",
    "    print(\"executing demosaic\")\n",
    "    \n",
    "    return np.uint8(color_image)\n",
    "    "
   ]
  },
  {
   "cell_type": "code",
   "execution_count": 12,
   "metadata": {},
   "outputs": [
    {
     "name": "stdout",
     "output_type": "stream",
     "text": [
      "executing demosaic\n",
      "executing demosaic\n",
      "executing demosaic\n"
     ]
    },
    {
     "data": {
      "text/plain": [
       "True"
      ]
     },
     "execution_count": 12,
     "metadata": {},
     "output_type": "execute_result"
    }
   ],
   "source": [
    "filtter = np.array([[1,2],[0,1]])\n",
    "\n",
    "image = cv2.imread('Results/colour_filter/orange-flower.ppm',0)\n",
    "color_image=demosaic (image, filtter)\n",
    "cv2.imwrite(\"Results/demosaic/orange-flower.ppm\",color_image)\n",
    "\n",
    "image = cv2.imread('Results/colour_filter/fall-colours.jpg',0)\n",
    "color_image=demosaic (image, filtter)\n",
    "cv2.imwrite(\"Results/demosaic/fall-colours.jpg\", color_image)\n",
    "\n",
    "image = cv2.imread('Results/colour_filter/waterplane.ppm',0)\n",
    "color_image=demosaic (image, filtter)\n",
    "cv2.imwrite(\"Results/demosaic/waterplane.ppm\", color_image)\n"
   ]
  },
  {
   "cell_type": "code",
   "execution_count": null,
   "metadata": {},
   "outputs": [],
   "source": []
  }
 ],
 "metadata": {
  "kernelspec": {
   "display_name": "Python 3",
   "language": "python",
   "name": "python3"
  },
  "language_info": {
   "codemirror_mode": {
    "name": "ipython",
    "version": 3
   },
   "file_extension": ".py",
   "mimetype": "text/x-python",
   "name": "python",
   "nbconvert_exporter": "python",
   "pygments_lexer": "ipython3",
   "version": "3.6.7"
  }
 },
 "nbformat": 4,
 "nbformat_minor": 2
}
